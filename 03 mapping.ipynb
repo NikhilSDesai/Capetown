{
 "cells": [
  {
   "cell_type": "code",
   "execution_count": 2,
   "id": "335ccf21-31ee-4bbe-bf00-8b482096c308",
   "metadata": {},
   "outputs": [],
   "source": [
    "# load packages for analysis\n",
    "import os\n",
    "import ast\n",
    "import contextily as ctx\n",
    "import dask.dataframe as dd\n",
    "import dask_geopandas as dg\n",
    "import fiona\n",
    "import geopandas as gpd\n",
    "import matplotlib.pyplot as plt\n",
    "from matplotlib.collections import LineCollection\n",
    "import numpy as np\n",
    "import networkx as nx\n",
    "import osmnx as ox\n",
    "import pandas as pd\n",
    "import pyogrio\n",
    "import seaborn as sns\n",
    "from xml import etree\n",
    "from sklearn.cluster import DBSCAN\n",
    "from sklearn.cluster import KMeans\n",
    "from sklearn.metrics import silhouette_score, davies_bouldin_score, calinski_harabasz_score\n",
    "from sklearn.preprocessing import StandardScaler\n",
    "from shapely.geometry import Point\n",
    "from shapely.geometry import LineString, MultiLineString\n",
    "import shapely.wkt\n",
    "import statsmodels.api as sm"
   ]
  },
  {
   "cell_type": "code",
   "execution_count": 3,
   "id": "7279b67b-f6ce-4483-a565-0d1f8b74d5d3",
   "metadata": {},
   "outputs": [],
   "source": [
    "# load data\n",
    "cpt_gdf = gpd.read_file(\"data/capetown_network.gpkg\")"
   ]
  },
  {
   "cell_type": "code",
   "execution_count": 8,
   "id": "e7ab5a0d-27a6-4aa2-89e1-d9efa2a17a82",
   "metadata": {},
   "outputs": [
    {
     "name": "stdout",
     "output_type": "stream",
     "text": [
      "                     names routes          highways start_nd_key  end_nd_key  \\\n",
      "0  silwerstroomstrand oord                  service   1028106861  4442602618   \n",
      "1  silwerstroomstrand oord                  service   1028106861  4442602555   \n",
      "2  silwerstroomstrand oord         service, footway   4442602618  9903662738   \n",
      "3  silwerstroomstrand oord                  service   9903662503  4442602555   \n",
      "4  silwerstroomstrand oord                  service   4442602616  4442602618   \n",
      "\n",
      "   edge_idx                                           geometry  \n",
      "0         0  LINESTRING (255237.473 6280107.594, 255198.749...  \n",
      "1         0  LINESTRING (255237.473 6280107.594, 255252.433...  \n",
      "2         0  LINESTRING (255198.749 6280075.152, 255209.880...  \n",
      "3         0  LINESTRING (255252.433 6280176.299, 255220.631...  \n",
      "4         0  LINESTRING (255176.816 6280075.592, 255198.749...  \n"
     ]
    }
   ],
   "source": [
    "print(cpt_gdf.head())"
   ]
  },
  {
   "cell_type": "code",
   "execution_count": 5,
   "id": "6092c916-3ee7-434d-bc8c-e49c0672d5e8",
   "metadata": {},
   "outputs": [
    {
     "name": "stdout",
     "output_type": "stream",
     "text": [
      "<class 'geopandas.geodataframe.GeoDataFrame'>\n",
      "RangeIndex: 151748 entries, 0 to 151747\n",
      "Data columns (total 7 columns):\n",
      " #   Column        Non-Null Count   Dtype   \n",
      "---  ------        --------------   -----   \n",
      " 0   names         151748 non-null  object  \n",
      " 1   routes        151748 non-null  object  \n",
      " 2   highways      151748 non-null  object  \n",
      " 3   start_nd_key  151748 non-null  object  \n",
      " 4   end_nd_key    151748 non-null  object  \n",
      " 5   edge_idx      151748 non-null  int64   \n",
      " 6   geometry      151748 non-null  geometry\n",
      "dtypes: geometry(1), int64(1), object(5)\n",
      "memory usage: 8.1+ MB\n"
     ]
    }
   ],
   "source": [
    "cpt_gdf.info()"
   ]
  },
  {
   "cell_type": "code",
   "execution_count": 9,
   "id": "74173ce6-d840-436f-8e09-8d4e866bdf8a",
   "metadata": {},
   "outputs": [],
   "source": [
    "# Load data\n",
    "cpt_gdf = gpd.read_file(\"data/capetown_network.gpkg\")\n",
    "\n",
    "# Filter rows where 'highways' column contains 'cycleway'\n",
    "cycle_paths = cpt_gdf[cpt_gdf['highways'].str.contains('cycleway', na=False, case=False)]\n",
    "\n",
    "# Save to a new GeoPackage\n",
    "cycle_paths.to_file(\"data/cycle_paths.gpkg\", driver=\"GPKG\")"
   ]
  },
  {
   "cell_type": "code",
   "execution_count": 10,
   "id": "754b031d-86e8-46c8-b6ea-63e07375d3b3",
   "metadata": {},
   "outputs": [],
   "source": [
    "# Filter rows where 'highways' column contains 'footway'\n",
    "pedestrian_paths = cpt_gdf[cpt_gdf['highways'].str.contains('footway', na=False, case=False)]\n",
    "\n",
    "# Save to a new GeoPackage\n",
    "pedestrian_paths.to_file(\"data/pedestrian_paths.gpkg\", driver=\"GPKG\")\n"
   ]
  },
  {
   "cell_type": "code",
   "execution_count": 11,
   "id": "f8ad7235-e772-4642-b5a6-375239303c98",
   "metadata": {},
   "outputs": [],
   "source": [
    "# Filter rows where 'highways' column contains 'secondary'\n",
    "secondary_streets = cpt_gdf[cpt_gdf['highways'].str.contains('secondary', na=False, case=False)]\n",
    "\n",
    "# Save to a new GeoPackage\n",
    "secondary_streets.to_file(\"data/secondary_streets.gpkg\", driver=\"GPKG\")\n"
   ]
  },
  {
   "cell_type": "code",
   "execution_count": 12,
   "id": "889b9d8a-d02f-4f60-9863-0dce6f200ee8",
   "metadata": {},
   "outputs": [],
   "source": [
    "# Filter rows where 'highways' column contains 'motorway', 'motorway_link', or 'primary'\n",
    "highways = cpt_gdf[cpt_gdf['highways'].str.contains('motorway|motorway_link|primary', na=False, case=False)]\n",
    "\n",
    "# Save to a new GeoPackage\n",
    "highways.to_file(\"data/highways.gpkg\", driver=\"GPKG\")\n"
   ]
  }
 ],
 "metadata": {
  "kernelspec": {
   "display_name": "urbsim",
   "language": "python",
   "name": "urbsim"
  },
  "language_info": {
   "codemirror_mode": {
    "name": "ipython",
    "version": 3
   },
   "file_extension": ".py",
   "mimetype": "text/x-python",
   "name": "python",
   "nbconvert_exporter": "python",
   "pygments_lexer": "ipython3",
   "version": "3.11.7"
  }
 },
 "nbformat": 4,
 "nbformat_minor": 5
}
