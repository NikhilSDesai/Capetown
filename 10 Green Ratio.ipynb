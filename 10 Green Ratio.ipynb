{
 "cells": [
  {
   "cell_type": "code",
   "execution_count": 1,
   "id": "0a1193fa-bc44-41d7-8af1-5ca7ac349ecf",
   "metadata": {},
   "outputs": [],
   "source": [
    "import geopandas as gpd\n",
    "\n",
    "wards = gpd.read_file(\"data/cpt_boundary_wards.gpkg\")\n",
    "parks = gpd.read_file(\"data/cpt_parks.gpkg\")"
   ]
  },
  {
   "cell_type": "code",
   "execution_count": 3,
   "id": "948c4d73-9fac-4c4d-a32f-85ba40d2e7f7",
   "metadata": {},
   "outputs": [],
   "source": [
    "# Step 2: Ensure geometries are valid\n",
    "wards = wards[wards.is_valid]\n",
    "parks = parks[parks.is_valid]\n",
    "\n",
    "# Step 3: Reproject to Web Mercator (EPSG:3857)\n",
    "wards = wards.to_crs(\"EPSG:3857\")\n",
    "parks = parks.to_crs(\"EPSG:3857\")"
   ]
  },
  {
   "cell_type": "code",
   "execution_count": 4,
   "id": "f94037b0-9c41-4573-b46e-c6b4a3654074",
   "metadata": {},
   "outputs": [],
   "source": [
    "# Step 4: Spatial intersection – get parks within wards\n",
    "parks_in_wards = gpd.overlay(parks, wards, how=\"intersection\")"
   ]
  },
  {
   "cell_type": "code",
   "execution_count": 5,
   "id": "d9709cab-9319-4276-9ecc-09ad50360987",
   "metadata": {},
   "outputs": [
    {
     "name": "stdout",
     "output_type": "stream",
     "text": [
      "<class 'geopandas.geodataframe.GeoDataFrame'>\n",
      "RangeIndex: 116 entries, 0 to 115\n",
      "Data columns (total 4 columns):\n",
      " #   Column     Non-Null Count  Dtype   \n",
      "---  ------     --------------  -----   \n",
      " 0   OBJECTID   116 non-null    int32   \n",
      " 1   WARD_NAME  116 non-null    object  \n",
      " 2   WARD_YEAR  116 non-null    int32   \n",
      " 3   geometry   116 non-null    geometry\n",
      "dtypes: geometry(1), int32(2), object(1)\n",
      "memory usage: 2.8+ KB\n"
     ]
    }
   ],
   "source": [
    "wards.info()"
   ]
  },
  {
   "cell_type": "code",
   "execution_count": 6,
   "id": "76ef8039-2370-4f43-98e8-add470215482",
   "metadata": {},
   "outputs": [],
   "source": [
    "# Step 5: Calculate green area per ward\n",
    "parks_in_wards[\"green_area\"] = parks_in_wards.geometry.area\n",
    "\n",
    "green_area_by_ward = parks_in_wards.groupby(\"WARD_NAME\")[\"green_area\"].sum().reset_index()"
   ]
  },
  {
   "cell_type": "code",
   "execution_count": 7,
   "id": "c12d08d5-e869-4f5e-ab2b-d7612aa0a63d",
   "metadata": {},
   "outputs": [],
   "source": [
    "# Step 6: Calculate total ward area\n",
    "wards[\"total_area\"] = wards.geometry.area\n",
    "\n",
    "# Merge green area values into wards GeoDataFrame\n",
    "wards = wards.merge(green_area_by_ward, on=\"WARD_NAME\", how=\"left\")\n",
    "\n",
    "# Fill NaNs in green_area with 0 (wards with no green space)\n",
    "wards[\"green_area\"] = wards[\"green_area\"].fillna(0)\n",
    "\n",
    "# Calculate green ratio\n",
    "wards[\"green_ratio\"] = wards[\"green_area\"] / wards[\"total_area\"]"
   ]
  },
  {
   "cell_type": "code",
   "execution_count": 8,
   "id": "6de87f80-cdd1-43ac-af05-a2466d820361",
   "metadata": {},
   "outputs": [],
   "source": [
    "# Step 7: Save to GeoPackage\n",
    "wards.to_file(\"wards_with_green_ratio.gpkg\", layer=\"wards_green_ratio\", driver=\"GPKG\")"
   ]
  }
 ],
 "metadata": {
  "kernelspec": {
   "display_name": "urbsim",
   "language": "python",
   "name": "urbsim"
  },
  "language_info": {
   "codemirror_mode": {
    "name": "ipython",
    "version": 3
   },
   "file_extension": ".py",
   "mimetype": "text/x-python",
   "name": "python",
   "nbconvert_exporter": "python",
   "pygments_lexer": "ipython3",
   "version": "3.11.7"
  }
 },
 "nbformat": 4,
 "nbformat_minor": 5
}
