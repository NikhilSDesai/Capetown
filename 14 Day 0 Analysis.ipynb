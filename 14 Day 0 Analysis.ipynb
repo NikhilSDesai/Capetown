{
 "cells": [
  {
   "cell_type": "code",
   "execution_count": 3,
   "id": "5564cb9a-a401-4f61-b309-843b1a2d46cb",
   "metadata": {},
   "outputs": [],
   "source": [
    "# load packages for analysis\n",
    "import os\n",
    "import ast\n",
    "import contextily as ctx\n",
    "import dask.dataframe as dd\n",
    "import dask_geopandas as dg\n",
    "import fiona\n",
    "import geopandas as gpd\n",
    "import matplotlib.pyplot as plt\n",
    "from matplotlib.collections import LineCollection\n",
    "import numpy as np\n",
    "import networkx as nx\n",
    "import osmnx as ox\n",
    "import pandas as pd\n",
    "import pyogrio\n",
    "import seaborn as sns\n",
    "from xml import etree\n",
    "from sklearn.cluster import DBSCAN\n",
    "from sklearn.cluster import KMeans\n",
    "from sklearn.metrics import silhouette_score, davies_bouldin_score, calinski_harabasz_score\n",
    "from sklearn.preprocessing import StandardScaler\n",
    "from shapely.geometry import Point\n",
    "from shapely.geometry import LineString, MultiLineString\n",
    "import shapely.wkt\n",
    "import statsmodels.api as sm"
   ]
  },
  {
   "cell_type": "code",
   "execution_count": 4,
   "id": "96c2b39c-b422-4cf8-9a0e-c8f532b71767",
   "metadata": {},
   "outputs": [
    {
     "ename": "NameError",
     "evalue": "name 'box' is not defined",
     "output_type": "error",
     "traceback": [
      "\u001b[0;31m---------------------------------------------------------------------------\u001b[0m",
      "\u001b[0;31mNameError\u001b[0m                                 Traceback (most recent call last)",
      "Cell \u001b[0;32mIn[4], line 3\u001b[0m\n\u001b[1;32m      1\u001b[0m xmin, ymin, xmax, ymax \u001b[38;5;241m=\u001b[39m (\u001b[38;5;241m17.948\u001b[39m, \u001b[38;5;241m-\u001b[39m\u001b[38;5;241m34.6538\u001b[39m, \u001b[38;5;241m19.7361\u001b[39m, \u001b[38;5;241m-\u001b[39m\u001b[38;5;241m33.6857\u001b[39m)\n\u001b[1;32m      2\u001b[0m \u001b[38;5;66;03m# we prepare a geometry from the coordinate with shapely.geometry.box\u001b[39;00m\n\u001b[0;32m----> 3\u001b[0m bbox \u001b[38;5;241m=\u001b[39m \u001b[43mbox\u001b[49m(xmin, ymin, xmax, ymax)\n\u001b[1;32m      4\u001b[0m \u001b[38;5;66;03m# to pass this to our API, the geometry needs to be serialized to a json, so we first turn it into a dictionary \u001b[39;00m\n\u001b[1;32m      5\u001b[0m \u001b[38;5;66;03m# and then turn it into a string\u001b[39;00m\n\u001b[1;32m      6\u001b[0m json_dict \u001b[38;5;241m=\u001b[39m mapping(bbox)\n",
      "\u001b[0;31mNameError\u001b[0m: name 'box' is not defined"
     ]
    }
   ],
   "source": [
    "xmin, ymin, xmax, ymax = (17.948, -34.6538, 19.7361, -33.6857)\n",
    "# we prepare a geometry from the coordinate with shapely.geometry.box\n",
    "bbox = box(xmin, ymin, xmax, ymax)\n",
    "# to pass this to our API, the geometry needs to be serialized to a json, so we first turn it into a dictionary \n",
    "# and then turn it into a string\n",
    "json_dict = mapping(bbox)\n",
    "json_str = json.dumps(json_dict)\n",
    "# show the geojson\n",
    "print(json_str)\n",
    "'{\"type\": \"Polygon\", \"coordinates\": [[[19.7361, -34.6538], [19.7361, -33.6857], [17.948, -33.6857], [17.948, -34.6538], [19.7361, -34.6538]]]}'\n",
    "r = get_reservoirs_by_geom(json_str)\n",
    "# convert into geopandas.GeoDataFrame\n",
    "gdf = to_geopandas(r.json())"
   ]
  }
 ],
 "metadata": {
  "kernelspec": {
   "display_name": "urbsim",
   "language": "python",
   "name": "urbsim"
  },
  "language_info": {
   "codemirror_mode": {
    "name": "ipython",
    "version": 3
   },
   "file_extension": ".py",
   "mimetype": "text/x-python",
   "name": "python",
   "nbconvert_exporter": "python",
   "pygments_lexer": "ipython3",
   "version": "3.11.7"
  }
 },
 "nbformat": 4,
 "nbformat_minor": 5
}
