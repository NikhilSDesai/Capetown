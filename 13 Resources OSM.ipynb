{
 "cells": [
  {
   "cell_type": "code",
   "execution_count": 3,
   "id": "1027425e-b17d-4895-a10b-638634132e97",
   "metadata": {},
   "outputs": [],
   "source": [
    "import osmnx as ox\n",
    "import geopandas as gpd\n",
    "from shapely.geometry import box\n",
    "\n",
    "# Define Cape Town bounding box (west, south, east, north)\n",
    "bbox = (18.307, -34.391, 19.019, -33.468)\n",
    "west, south, east, north = bbox\n",
    "\n",
    "# Create bounding polygon using shapely\n",
    "bbox_polygon = box(west, south, east, north)\n",
    "\n",
    "# Extract all features with a 'power' tag\n",
    "tags = {\"power\": True}\n",
    "gdf = ox.features_from_polygon(bbox_polygon, tags=tags)\n",
    "\n",
    "# Save each power type as a layer in a GeoPackage\n",
    "output_path = \"capetown_energy_infrastructure.gpkg\"\n",
    "for value, group in gdf.groupby(\"power\"):\n",
    "    layer_name = f\"power_{value}\".replace(\" \", \"_\").lower()\n",
    "    group.to_file(output_path, layer=layer_name, driver=\"GPKG\")"
   ]
  }
 ],
 "metadata": {
  "kernelspec": {
   "display_name": "Python 3 (ipykernel)",
   "language": "python",
   "name": "python3"
  },
  "language_info": {
   "codemirror_mode": {
    "name": "ipython",
    "version": 3
   },
   "file_extension": ".py",
   "mimetype": "text/x-python",
   "name": "python",
   "nbconvert_exporter": "python",
   "pygments_lexer": "ipython3",
   "version": "3.11.7"
  }
 },
 "nbformat": 4,
 "nbformat_minor": 5
}
