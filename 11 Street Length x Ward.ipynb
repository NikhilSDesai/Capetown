{
 "cells": [
  {
   "cell_type": "code",
   "execution_count": 4,
   "id": "01724af5-7366-4ee8-929a-1fd23521795d",
   "metadata": {},
   "outputs": [],
   "source": [
    "import geopandas as gpd\n",
    "\n",
    "wards = gpd.read_file(\"data/cpt_boundary_wards.gpkg\")\n",
    "districts = gpd.read_file(\"data/ODP/Development_Management_Districts/SL_PBDM_RGN.shp\")"
   ]
  },
  {
   "cell_type": "code",
   "execution_count": 3,
   "id": "f90dc1ea-3af9-48ab-a545-c46162e7e7c5",
   "metadata": {},
   "outputs": [],
   "source": [
    "streets = gpd.read_file(\"data/cpt_network_cleaned.gpkg\")"
   ]
  },
  {
   "cell_type": "code",
   "execution_count": 8,
   "id": "be7b3f64-5ab0-4297-b005-bf05b95002e4",
   "metadata": {},
   "outputs": [
    {
     "data": {
      "text/html": [
       "<div>\n",
       "<style scoped>\n",
       "    .dataframe tbody tr th:only-of-type {\n",
       "        vertical-align: middle;\n",
       "    }\n",
       "\n",
       "    .dataframe tbody tr th {\n",
       "        vertical-align: top;\n",
       "    }\n",
       "\n",
       "    .dataframe thead th {\n",
       "        text-align: right;\n",
       "    }\n",
       "</style>\n",
       "<table border=\"1\" class=\"dataframe\">\n",
       "  <thead>\n",
       "    <tr style=\"text-align: right;\">\n",
       "      <th></th>\n",
       "      <th>OBJECTID</th>\n",
       "      <th>WARD_NAME</th>\n",
       "      <th>WARD_YEAR</th>\n",
       "      <th>geometry</th>\n",
       "    </tr>\n",
       "  </thead>\n",
       "  <tbody>\n",
       "    <tr>\n",
       "      <th>0</th>\n",
       "      <td>538</td>\n",
       "      <td>1</td>\n",
       "      <td>2021</td>\n",
       "      <td>MULTIPOLYGON (((2070517.326 -4013255.623, 2070...</td>\n",
       "    </tr>\n",
       "    <tr>\n",
       "      <th>1</th>\n",
       "      <td>539</td>\n",
       "      <td>2</td>\n",
       "      <td>2021</td>\n",
       "      <td>MULTIPOLYGON (((2070958.885 -4013973.53, 20710...</td>\n",
       "    </tr>\n",
       "  </tbody>\n",
       "</table>\n",
       "</div>"
      ],
      "text/plain": [
       "   OBJECTID WARD_NAME  WARD_YEAR  \\\n",
       "0       538         1       2021   \n",
       "1       539         2       2021   \n",
       "\n",
       "                                            geometry  \n",
       "0  MULTIPOLYGON (((2070517.326 -4013255.623, 2070...  \n",
       "1  MULTIPOLYGON (((2070958.885 -4013973.53, 20710...  "
      ]
     },
     "execution_count": 8,
     "metadata": {},
     "output_type": "execute_result"
    }
   ],
   "source": [
    "wards.head(2)"
   ]
  },
  {
   "cell_type": "code",
   "execution_count": 9,
   "id": "2343c75d-42e6-4b29-b718-8f64ce36a6d2",
   "metadata": {},
   "outputs": [
    {
     "data": {
      "text/html": [
       "<div>\n",
       "<style scoped>\n",
       "    .dataframe tbody tr th:only-of-type {\n",
       "        vertical-align: middle;\n",
       "    }\n",
       "\n",
       "    .dataframe tbody tr th {\n",
       "        vertical-align: top;\n",
       "    }\n",
       "\n",
       "    .dataframe thead th {\n",
       "        text-align: right;\n",
       "    }\n",
       "</style>\n",
       "<table border=\"1\" class=\"dataframe\">\n",
       "  <thead>\n",
       "    <tr style=\"text-align: right;\">\n",
       "      <th></th>\n",
       "      <th>u</th>\n",
       "      <th>v</th>\n",
       "      <th>geometry</th>\n",
       "    </tr>\n",
       "  </thead>\n",
       "  <tbody>\n",
       "    <tr>\n",
       "      <th>0</th>\n",
       "      <td>5473988567113339372</td>\n",
       "      <td>7519887590434988504</td>\n",
       "      <td>LINESTRING (18.35125 -33.98829, 18.35389 -33.9...</td>\n",
       "    </tr>\n",
       "    <tr>\n",
       "      <th>1</th>\n",
       "      <td>-1658900339951337858</td>\n",
       "      <td>7519887590434988504</td>\n",
       "      <td>LINESTRING (18.37143 -33.97054, 18.37176 -33.9...</td>\n",
       "    </tr>\n",
       "  </tbody>\n",
       "</table>\n",
       "</div>"
      ],
      "text/plain": [
       "                     u                    v  \\\n",
       "0  5473988567113339372  7519887590434988504   \n",
       "1 -1658900339951337858  7519887590434988504   \n",
       "\n",
       "                                            geometry  \n",
       "0  LINESTRING (18.35125 -33.98829, 18.35389 -33.9...  \n",
       "1  LINESTRING (18.37143 -33.97054, 18.37176 -33.9...  "
      ]
     },
     "execution_count": 9,
     "metadata": {},
     "output_type": "execute_result"
    }
   ],
   "source": [
    "streets.head(2)"
   ]
  },
  {
   "cell_type": "code",
   "execution_count": 10,
   "id": "4f847ae3-2faf-491e-b982-632d13218a7a",
   "metadata": {},
   "outputs": [
    {
     "data": {
      "text/html": [
       "<div>\n",
       "<style scoped>\n",
       "    .dataframe tbody tr th:only-of-type {\n",
       "        vertical-align: middle;\n",
       "    }\n",
       "\n",
       "    .dataframe tbody tr th {\n",
       "        vertical-align: top;\n",
       "    }\n",
       "\n",
       "    .dataframe thead th {\n",
       "        text-align: right;\n",
       "    }\n",
       "</style>\n",
       "<table border=\"1\" class=\"dataframe\">\n",
       "  <thead>\n",
       "    <tr style=\"text-align: right;\">\n",
       "      <th></th>\n",
       "      <th>OBJECTID</th>\n",
       "      <th>PBDM_RGN_N</th>\n",
       "      <th>SHAPE_Leng</th>\n",
       "      <th>SHAPE_Area</th>\n",
       "      <th>geometry</th>\n",
       "    </tr>\n",
       "  </thead>\n",
       "  <tbody>\n",
       "    <tr>\n",
       "      <th>0</th>\n",
       "      <td>809</td>\n",
       "      <td>CAPE FLATS</td>\n",
       "      <td>72440.154512</td>\n",
       "      <td>1.953103e+08</td>\n",
       "      <td>POLYGON ((2060444.866 -4022051.414, 2060594.81...</td>\n",
       "    </tr>\n",
       "    <tr>\n",
       "      <th>1</th>\n",
       "      <td>810</td>\n",
       "      <td>MITCHELLS PLAIN/KHAYELITSHA</td>\n",
       "      <td>77410.762312</td>\n",
       "      <td>2.290795e+08</td>\n",
       "      <td>POLYGON ((2084002.546 -4022865.772, 2084226.73...</td>\n",
       "    </tr>\n",
       "  </tbody>\n",
       "</table>\n",
       "</div>"
      ],
      "text/plain": [
       "   OBJECTID                   PBDM_RGN_N    SHAPE_Leng    SHAPE_Area  \\\n",
       "0       809                   CAPE FLATS  72440.154512  1.953103e+08   \n",
       "1       810  MITCHELLS PLAIN/KHAYELITSHA  77410.762312  2.290795e+08   \n",
       "\n",
       "                                            geometry  \n",
       "0  POLYGON ((2060444.866 -4022051.414, 2060594.81...  \n",
       "1  POLYGON ((2084002.546 -4022865.772, 2084226.73...  "
      ]
     },
     "execution_count": 10,
     "metadata": {},
     "output_type": "execute_result"
    }
   ],
   "source": [
    "districts.head(2)"
   ]
  },
  {
   "cell_type": "code",
   "execution_count": 11,
   "id": "9b6d2b2a-c45c-464b-ad5c-677ee45cf7c0",
   "metadata": {},
   "outputs": [],
   "source": [
    "wards = wards.to_crs(\"EPSG:3857\")\n",
    "streets = streets.to_crs(\"EPSG:3857\")\n",
    "districts = districts.to_crs(\"EPSG:3857\")"
   ]
  },
  {
   "cell_type": "code",
   "execution_count": 12,
   "id": "e61b459f-d457-4e03-8c54-bee7ffecd3c6",
   "metadata": {},
   "outputs": [
    {
     "name": "stdout",
     "output_type": "stream",
     "text": [
      "Invalid or empty geometries: 0\n"
     ]
    }
   ],
   "source": [
    "# Check for invalid or empty geometries in 'streets'\n",
    "invalid_streets = streets[~streets.is_valid | streets.is_empty]\n",
    "print(f\"Invalid or empty geometries: {len(invalid_streets)}\")"
   ]
  },
  {
   "cell_type": "code",
   "execution_count": 13,
   "id": "62abf7c8-adcd-4ecb-a365-67dfb19fb463",
   "metadata": {},
   "outputs": [],
   "source": [
    "# Step 1: Calculate street segment lengths\n",
    "streets['length_m'] = streets.geometry.length\n",
    "\n",
    "# Step 2: Spatial join with wards\n",
    "streets_in_wards = gpd.sjoin(streets, wards[['WARD_NAME', 'geometry']], how='inner', predicate='intersects')\n",
    "\n",
    "# Step 3: Group by ward and sum lengths\n",
    "ward_lengths = streets_in_wards.groupby('WARD_NAME')['length_m'].sum().reset_index()\n",
    "\n",
    "# Step 4: Merge back with ward geometries\n",
    "wards_with_length = wards[['WARD_NAME', 'geometry']].merge(ward_lengths, on='WARD_NAME', how='left')\n",
    "wards_with_length['length_m'] = wards_with_length['length_m'].fillna(0)"
   ]
  },
  {
   "cell_type": "code",
   "execution_count": 14,
   "id": "864e752d-201b-408a-b089-95a4fcf0c5bf",
   "metadata": {},
   "outputs": [],
   "source": [
    "# Spatial join with districts\n",
    "streets_in_districts = gpd.sjoin(streets, districts[['PBDM_RGN_N', 'geometry']], how='inner', predicate='intersects')\n",
    "\n",
    "# Group by district and sum lengths\n",
    "district_lengths = streets_in_districts.groupby('PBDM_RGN_N')['length_m'].sum().reset_index()\n",
    "\n",
    "# Merge back with district geometries\n",
    "districts_with_length = districts[['PBDM_RGN_N', 'geometry']].merge(district_lengths, on='PBDM_RGN_N', how='left')\n",
    "districts_with_length['length_m'] = districts_with_length['length_m'].fillna(0)"
   ]
  },
  {
   "cell_type": "code",
   "execution_count": 16,
   "id": "108c2ef9-e3f5-435b-bb92-9852c025ff89",
   "metadata": {},
   "outputs": [],
   "source": [
    "# For wards\n",
    "wards_with_length['area_km2'] = wards_with_length.geometry.area / 1e6\n",
    "wards_with_length['length_per_km2'] = wards_with_length['length_m'] / wards_with_length['area_km2']\n",
    "\n",
    "# For districts\n",
    "districts_with_length['area_km2'] = districts_with_length.geometry.area / 1e6\n",
    "districts_with_length['length_per_km2'] = districts_with_length['length_m'] / districts_with_length['area_km2']"
   ]
  },
  {
   "cell_type": "code",
   "execution_count": 17,
   "id": "e7ccf736-e2ce-4810-925b-61b9d43ba474",
   "metadata": {},
   "outputs": [],
   "source": [
    "# Save wards with length to GeoPackage\n",
    "wards_with_length.to_file(\"wards_street_length.gpkg\", layer=\"wards\", driver=\"GPKG\")\n",
    "\n",
    "# Save districts with length to GeoPackage\n",
    "districts_with_length.to_file(\"districts_street_length.gpkg\", layer=\"districts\", driver=\"GPKG\")"
   ]
  }
 ],
 "metadata": {
  "kernelspec": {
   "display_name": "urbsim",
   "language": "python",
   "name": "urbsim"
  },
  "language_info": {
   "codemirror_mode": {
    "name": "ipython",
    "version": 3
   },
   "file_extension": ".py",
   "mimetype": "text/x-python",
   "name": "python",
   "nbconvert_exporter": "python",
   "pygments_lexer": "ipython3",
   "version": "3.11.7"
  }
 },
 "nbformat": 4,
 "nbformat_minor": 5
}
