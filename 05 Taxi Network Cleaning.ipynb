{
 "cells": [
  {
   "cell_type": "code",
   "execution_count": 1,
   "id": "7beca39d-141a-4540-8184-09cf970c1877",
   "metadata": {},
   "outputs": [],
   "source": [
    "# load packages for analysis\n",
    "import os\n",
    "import ast\n",
    "from cityseer.metrics import networks\n",
    "from cityseer.tools import graphs, io\n",
    "import contextily as ctx\n",
    "import dask.dataframe as dd\n",
    "import dask_geopandas as dg\n",
    "import fiona\n",
    "import geopandas as gpd\n",
    "import matplotlib.pyplot as plt\n",
    "from matplotlib.collections import LineCollection\n",
    "import numpy as np\n",
    "import networkx as nx\n",
    "import osmnx as ox\n",
    "import pandas as pd\n",
    "import pyogrio\n",
    "import seaborn as sns\n",
    "from xml import etree\n",
    "from sklearn.cluster import DBSCAN\n",
    "from sklearn.cluster import KMeans\n",
    "from sklearn.metrics import silhouette_score, davies_bouldin_score, calinski_harabasz_score\n",
    "from sklearn.preprocessing import StandardScaler\n",
    "from shapely.geometry import Point\n",
    "from shapely.geometry import LineString, MultiLineString\n",
    "import shapely.wkt\n",
    "import statsmodels.api as sm"
   ]
  },
  {
   "cell_type": "code",
   "execution_count": 2,
   "id": "090bbbb4-9b18-4bc4-8f67-bda0759f4708",
   "metadata": {},
   "outputs": [],
   "source": [
    "cpt_taxi = gpd.read_file(\"ct_mobility_taxi_routes.gpkg\")"
   ]
  },
  {
   "cell_type": "code",
   "execution_count": 3,
   "id": "03251763-59f1-4596-9440-3233ab453b0e",
   "metadata": {},
   "outputs": [
    {
     "name": "stdout",
     "output_type": "stream",
     "text": [
      "<class 'geopandas.geodataframe.GeoDataFrame'>\n",
      "RangeIndex: 1466 entries, 0 to 1465\n",
      "Data columns (total 5 columns):\n",
      " #   Column      Non-Null Count  Dtype   \n",
      "---  ------      --------------  -----   \n",
      " 0   OBJECTID    1466 non-null   int32   \n",
      " 1   ORGN        1447 non-null   object  \n",
      " 2   DSTN        1447 non-null   object  \n",
      " 3   SHAPE_Leng  1466 non-null   float64 \n",
      " 4   geometry    1466 non-null   geometry\n",
      "dtypes: float64(1), geometry(1), int32(1), object(2)\n",
      "memory usage: 51.7+ KB\n"
     ]
    }
   ],
   "source": [
    "cpt_taxi.info()"
   ]
  },
  {
   "cell_type": "code",
   "execution_count": 4,
   "id": "f3a8609b-301d-4eb2-8c95-b5cc574e775b",
   "metadata": {},
   "outputs": [
    {
     "name": "stdout",
     "output_type": "stream",
     "text": [
      "   OBJECTID       ORGN         DSTN    SHAPE_Leng  \\\n",
      "0         1  BELLVILLE  DURBANVILLE  12918.668592   \n",
      "1         2  BELLVILLE       NYANGA  15814.788629   \n",
      "2         3  BELLVILLE  KHAYELITSHA  22221.733226   \n",
      "3         4  BELLVILLE      MOWBRAY  24910.267147   \n",
      "4         5   GUGULETU    CLAREMONT  15462.341551   \n",
      "\n",
      "                                            geometry  \n",
      "0  MULTILINESTRING ((2073863.968 -4016029.631, 20...  \n",
      "1  MULTILINESTRING ((2073863.968 -4016029.631, 20...  \n",
      "2  MULTILINESTRING ((2073863.968 -4016029.631, 20...  \n",
      "3  MULTILINESTRING ((2073863.968 -4016029.631, 20...  \n",
      "4  MULTILINESTRING ((2066804.532 -4027123.839, 20...  \n"
     ]
    }
   ],
   "source": [
    "print(cpt_taxi.head())"
   ]
  },
  {
   "cell_type": "code",
   "execution_count": 5,
   "id": "a3de0cdb-6a18-4fc5-bde3-3285c8c77a08",
   "metadata": {},
   "outputs": [],
   "source": [
    "if cpt_taxi.crs is None or not cpt_taxi.crs.is_projected:\n",
    "        cpt_taxi = cpt_taxi.to_crs(epsg=3857)"
   ]
  },
  {
   "cell_type": "code",
   "execution_count": 8,
   "id": "6b14c12a-f556-46b5-a578-454ebae2c452",
   "metadata": {},
   "outputs": [],
   "source": [
    "cpt_taxi = cpt_taxi.dropna(subset=['ORGN', 'DSTN'])"
   ]
  },
  {
   "cell_type": "code",
   "execution_count": 9,
   "id": "8663bf35-4b04-4733-9a4c-8ff026efdeb4",
   "metadata": {},
   "outputs": [],
   "source": [
    "cpt_taxi['ORGN'] = cpt_taxi['ORGN'].astype(str)\n",
    "cpt_taxi['DSTN'] = cpt_taxi['DSTN'].astype(str)"
   ]
  },
  {
   "cell_type": "code",
   "execution_count": 10,
   "id": "59149808-f3a8-4c9c-8ee2-33961a6a3aac",
   "metadata": {},
   "outputs": [],
   "source": [
    "for _, row in cpt_taxi.iterrows():\n",
    "    origin = row['ORGN']\n",
    "    destination = row['DSTN']\n",
    "\n",
    "    # Skip if any value is missing or invalid\n",
    "    if pd.isna(origin) or pd.isna(destination):\n",
    "        continue\n",
    "\n",
    "    weight = row['SHAPE_Leng']  # Distance as weight\n",
    "    geometry = row['geometry']  # Edge geometry\n",
    "\n",
    "    # Add nodes and edge\n",
    "    G_ct.add_node(origin)\n",
    "    G_ct.add_node(destination)\n",
    "    G_ct.add_edge(origin, destination, weight=weight, geometry=geometry)"
   ]
  },
  {
   "cell_type": "code",
   "execution_count": 11,
   "id": "f7d61755-bf9e-48ce-8ca1-93ad4afc9ab1",
   "metadata": {},
   "outputs": [
    {
     "name": "stdout",
     "output_type": "stream",
     "text": [
      "('BELLVILLE', {})\n",
      "('BELLVILLE', 'DURBANVILLE', {'weight': 11434.070009021452, 'geometry': <MULTILINESTRING ((2073825.007 -4016149.808, 2073863.968 -4016029.631, 20737...>})\n"
     ]
    }
   ],
   "source": [
    "# Check a sample node\n",
    "print(next(iter(G_ct.nodes(data=True))))\n",
    "\n",
    "# Check a sample edge\n",
    "print(next(iter(G_ct.edges(data=True))))"
   ]
  },
  {
   "cell_type": "code",
   "execution_count": 12,
   "id": "987a2241-7cb5-45bb-8732-3d6d27c5502e",
   "metadata": {},
   "outputs": [
    {
     "name": "stdout",
     "output_type": "stream",
     "text": [
      "<class 'shapely.geometry.multilinestring.MultiLineString'>\n"
     ]
    }
   ],
   "source": [
    "for _, _, data in G_ct.edges(data=True):\n",
    "    print(type(data['geometry']))\n",
    "    break"
   ]
  },
  {
   "cell_type": "code",
   "execution_count": 16,
   "id": "dbfbdb18-79c3-4a22-af38-46a610b66be1",
   "metadata": {},
   "outputs": [],
   "source": [
    "from shapely.ops import linemerge, unary_union\n",
    "from collections import defaultdict\n",
    "\n",
    "# Create a new simplified graph\n",
    "G_simplified = nx.DiGraph()\n",
    "\n",
    "# Dictionary to store merged edges\n",
    "merged_edges = defaultdict(lambda: {'weight': 0, 'geometry': []})\n",
    "\n",
    "for u, v, data in G_ct.edges(data=True):\n",
    "    merged_edges[(u, v)]['weight'] += data['weight']  # Summing weights\n",
    "    merged_edges[(u, v)]['geometry'].append(data['geometry'])  # Store geometries\n",
    "\n",
    "# Add merged edges to new graph\n",
    "for (u, v), attr in merged_edges.items():\n",
    "    geometries = attr['geometry']\n",
    "\n",
    "    # Ensure we correctly merge geometries\n",
    "    if len(geometries) == 1:\n",
    "        merged_geometry = geometries[0]  # Single LineString remains unchanged\n",
    "    else:\n",
    "        merged_geometry = linemerge(unary_union(geometries))  # Merge multiple geometries\n",
    "\n",
    "    G_simplified.add_edge(u, v, weight=attr['weight'], geometry=merged_geometry)\n",
    "\n",
    "# Replace the original graph with the simplified version\n",
    "G_ct = G_simplified"
   ]
  },
  {
   "cell_type": "code",
   "execution_count": 17,
   "id": "49782cd7-1b87-47df-a4fe-0d3378650431",
   "metadata": {},
   "outputs": [
    {
     "data": {
      "image/png": "[encoded data removed]",
      "text/plain": [
       "<Figure size 1000x1000 with 1 Axes>"
      ]
     },
     "metadata": {},
     "output_type": "display_data"
    }
   ],
   "source": [
    "# Create a figure and axis\n",
    "fig, ax = plt.subplots(figsize=(10, 10))\n",
    "\n",
    "# Plot edges with their geometry\n",
    "for u, v, data in G_ct.edges(data=True):\n",
    "    geometry = data['geometry']\n",
    "    if isinstance(geometry, LineString):\n",
    "        x, y = geometry.xy\n",
    "        ax.plot(x, y, color=\"blue\", linewidth=0.5, alpha=0.7)\n",
    "\n",
    "# Plot nodes\n",
    "node_positions = {node: (G_ct.nodes[node].get('x', 0), G_ct.nodes[node].get('y', 0)) for node in G_ct.nodes}\n",
    "ax.scatter(*zip(*node_positions.values()), color=\"red\", s=5, alpha=0.7)\n",
    "\n",
    "# Title and show plot\n",
    "ax.set_title(\"Simplified Taxi Network Graph (Cape Town)\")\n",
    "plt.show()"
   ]
  }
 ],
 "metadata": {
  "kernelspec": {
   "display_name": "urbsim",
   "language": "python",
   "name": "urbsim"
  },
  "language_info": {
   "codemirror_mode": {
    "name": "ipython",
    "version": 3
   },
   "file_extension": ".py",
   "mimetype": "text/x-python",
   "name": "python",
   "nbconvert_exporter": "python",
   "pygments_lexer": "ipython3",
   "version": "3.11.7"
  }
 },
 "nbformat": 4,
 "nbformat_minor": 5
}
